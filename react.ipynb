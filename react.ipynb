{
 "nbformat": 4,
 "nbformat_minor": 0,
 "metadata": {
  "colab": {
   "provenance": []
  },
  "kernelspec": {
   "name": "python3",
   "language": "python",
   "display_name": "Python 3 (ipykernel)"
  },
  "language_info": {
   "name": "python"
  }
 },
 "cells": [
  {
   "cell_type": "code",
   "source": [
    "import os\n",
    "!pip -q install langchain-core langchain-community langgraph langchain-openai duckduckgo-search"
   ],
   "metadata": {
    "colab": {
     "base_uri": "https://localhost:8080/"
    },
    "id": "dVYp7LLzhDDM",
    "outputId": "82ee5479-ae40-4bef-b852-808fecf05633"
   },
   "execution_count": 1,
   "outputs": [
    {
     "output_type": "stream",
     "name": "stdout",
     "text": [
      "\u001B[2K   \u001B[90m━━━━━━━━━━━━━━━━━━━━━━━━━━━━━━━━━━━━━━━━\u001B[0m \u001B[32m2.4/2.4 MB\u001B[0m \u001B[31m12.2 MB/s\u001B[0m eta \u001B[36m0:00:00\u001B[0m\n",
      "\u001B[2K   \u001B[90m━━━━━━━━━━━━━━━━━━━━━━━━━━━━━━━━━━━━━━━━\u001B[0m \u001B[32m409.7/409.7 kB\u001B[0m \u001B[31m13.2 MB/s\u001B[0m eta \u001B[36m0:00:00\u001B[0m\n",
      "\u001B[2K   \u001B[90m━━━━━━━━━━━━━━━━━━━━━━━━━━━━━━━━━━━━━━━━\u001B[0m \u001B[32m126.8/126.8 kB\u001B[0m \u001B[31m5.5 MB/s\u001B[0m eta \u001B[36m0:00:00\u001B[0m\n",
      "\u001B[2K   \u001B[90m━━━━━━━━━━━━━━━━━━━━━━━━━━━━━━━━━━━━━━━━\u001B[0m \u001B[32m50.7/50.7 kB\u001B[0m \u001B[31m2.8 MB/s\u001B[0m eta \u001B[36m0:00:00\u001B[0m\n",
      "\u001B[2K   \u001B[90m━━━━━━━━━━━━━━━━━━━━━━━━━━━━━━━━━━━━━━━━\u001B[0m \u001B[32m1.0/1.0 MB\u001B[0m \u001B[31m15.6 MB/s\u001B[0m eta \u001B[36m0:00:00\u001B[0m\n",
      "\u001B[2K   \u001B[90m━━━━━━━━━━━━━━━━━━━━━━━━━━━━━━━━━━━━━━━━\u001B[0m \u001B[32m3.0/3.0 MB\u001B[0m \u001B[31m17.4 MB/s\u001B[0m eta \u001B[36m0:00:00\u001B[0m\n",
      "\u001B[2K   \u001B[90m━━━━━━━━━━━━━━━━━━━━━━━━━━━━━━━━━━━━━━━━\u001B[0m \u001B[32m1.2/1.2 MB\u001B[0m \u001B[31m11.3 MB/s\u001B[0m eta \u001B[36m0:00:00\u001B[0m\n",
      "\u001B[2K   \u001B[90m━━━━━━━━━━━━━━━━━━━━━━━━━━━━━━━━━━━━━━━━\u001B[0m \u001B[32m49.5/49.5 kB\u001B[0m \u001B[31m1.8 MB/s\u001B[0m eta \u001B[36m0:00:00\u001B[0m\n",
      "\u001B[?25h"
     ]
    }
   ]
  },
  {
   "cell_type": "markdown",
   "source": [
    "## LangGraph ReAct Function Calling Pattern\n",
    "\n",
    "- Search\n",
    "\n",
    "- Math\n",
    "\n",
    "---\n",
    "\n"
   ],
   "metadata": {
    "id": "_PK5Dpx4j02e"
   }
  },
  {
   "cell_type": "markdown",
   "source": [
    "## Traditional ReAct Prompt"
   ],
   "metadata": {
    "id": "o0vQNgwBKU0n"
   }
  },
  {
   "cell_type": "code",
   "outputs": [],
   "source": [
    "react_prompt = \"\"\"Assistant is a large language model trained by Microsoft.\n",
    "\n",
    "Assistant is designed to be able to assist with a wide range of tasks, from answering simple questions to providing in-depth explanations and discussions on a wide range of topics. As a language model, Assistant is able to generate human-like text based on the input it receives, allowing it to engage in natural-sounding conversations and provide responses that are coherent and relevant to the topic at hand.\n",
    "\n",
    "Assistant is constantly learning and improving, and its capabilities are constantly evolving. It is able to process and understand large amounts of text, and can use this knowledge to provide accurate and informative responses to a wide range of questions. Additionally, Assistant is able to generate its own text based on the input it receives, allowing it to engage in discussions and provide explanations and descriptions on a wide range of topics.\n",
    "\n",
    "Overall, Assistant is a powerful tool that can help with a wide range of tasks and provide valuable insights and information on a wide range of topics. Whether you need help with a specific question or just want to have a conversation about a particular topic, Assistant is here to assist.\n",
    "\n",
    "TOOLS:\n",
    "------\n",
    "\n",
    "Assistant has access to the following tools:\n",
    "\n",
    "wikipedia_search - searches the wikipedia database for the answer\\n\n",
    "web_search - searches the web for the answer\\n\n",
    "calculator - calculates the answer to the question\\n\n",
    "weather_api - gets the weather for the location\\n\n",
    "\n",
    "\n",
    "To use a tool, please use the following format:\n",
    "\n",
    "```\n",
    "Thought: Do I need to use a tool? Yes\n",
    "Action: the action to take, should be one of [wikipedia_search, web_search, calculator, weather_api]\n",
    "Action Input: the input to the action\n",
    "Observation: the result of the action\n",
    "```\n",
    "\n",
    "When you have a response to say to the Human, or if you do not need to use a tool, you MUST use the format:\n",
    "\n",
    "```\n",
    "Thought: Do I need to use a tool? No\n",
    "Final Answer: [your response here]\n",
    "```\n",
    "\n",
    "Begin!\n",
    "\n",
    "\n",
    "New input: Whow was King Arthur?\n",
    "\"\"\""
   ],
   "metadata": {
    "collapsed": false,
    "ExecuteTime": {
     "end_time": "2024-12-07T23:24:38.613432Z",
     "start_time": "2024-12-07T23:24:38.610584Z"
    }
   },
   "execution_count": 29
  },
  {
   "cell_type": "code",
   "source": [
    "from langchain_openai import ChatOpenAI\n",
    "import dotenv\n",
    "dotenv.load_dotenv()\n",
    "\n",
    "llm = ChatOpenAI(model=\"gpt-4o\")"
   ],
   "metadata": {
    "id": "Iv9zB6BrhbRY",
    "ExecuteTime": {
     "end_time": "2024-12-07T23:09:50.915065Z",
     "start_time": "2024-12-07T23:09:50.288642Z"
    }
   },
   "execution_count": 1,
   "outputs": []
  },
  {
   "cell_type": "markdown",
   "source": [
    "### Tools"
   ],
   "metadata": {
    "id": "Xjw2pzHJmgcz"
   }
  },
  {
   "cell_type": "code",
   "source": [
    "def multiply(a: int, b: int) -> int:\n",
    "    \"\"\"Multiply a and b.\n",
    "\n",
    "    Args:\n",
    "        a: first int\n",
    "        b: second int\n",
    "    \"\"\"\n",
    "    return a * b\n",
    "\n",
    "# This will be a tool\n",
    "def add(a: int, b: int) -> int:\n",
    "    \"\"\"Adds a and b.\n",
    "\n",
    "    Args:\n",
    "        a: first int\n",
    "        b: second int\n",
    "    \"\"\"\n",
    "    return a + b\n",
    "\n",
    "def divide(a: int, b: int) -> float:\n",
    "    \"\"\"Divide a and b.\n",
    "\n",
    "    Args:\n",
    "        a: first int\n",
    "        b: second int\n",
    "    \"\"\"\n",
    "    return a / b"
   ],
   "metadata": {
    "id": "1AJoWmexhbUQ",
    "ExecuteTime": {
     "end_time": "2024-12-07T23:09:52.029531Z",
     "start_time": "2024-12-07T23:09:52.026637Z"
    }
   },
   "execution_count": 2,
   "outputs": []
  },
  {
   "cell_type": "code",
   "source": [
    "# search tools\n",
    "from langchain_community.tools import DuckDuckGoSearchRun\n",
    "\n",
    "search = DuckDuckGoSearchRun()\n",
    "\n",
    "search.invoke(\"How old is Brad Pitt?\")"
   ],
   "metadata": {
    "colab": {
     "base_uri": "https://localhost:8080/",
     "height": 157
    },
    "id": "1VfRa-pdmm1u",
    "outputId": "c3ded11d-3447-4ad8-a736-44a2cb733895",
    "ExecuteTime": {
     "end_time": "2024-12-07T23:09:54.444873Z",
     "start_time": "2024-12-07T23:09:53.173120Z"
    }
   },
   "execution_count": 3,
   "outputs": [
    {
     "data": {
      "text/plain": "'Brad Pitt is \"missing\" his children this holiday season, a source exclusively tells Page Six. ... 23, Pax, 21, Zahara, 19, Shiloh, 18, and 16-year-old twins Knox and Vivienne. Brad Pitt was born William Bradley Pitt on December 18, 1963, in Shawnee, Oklahoma. The eldest of three children in a devoutly Southern Baptist family, Brad grew up in Springfield, Missouri, with his siblings Doug and Julie. Brad Pitt marked his 60th birthday with a celebration at Mother Wolf in Los Angeles this week. One onlooker says the actor \\'looked super happy\\' at the party, and \\'everyone had a smile on their faces.\\' At the time of filming in early 2023, Brad Pitt was 59 years old, having been born on December 18, 1963. Wolfs began production in late 2021, but it wasn\\'t until early 2023 that the film started filming scenes in New York City, just a month after his birthday. Angelina Jolie Gave An Update On Her 18-Year-Old Daughter Shiloh After She Dropped Brad Pitt\\'s Last Name. Angelina shares her six children with Brad — who is reported to have \"virtually no ...'"
     },
     "execution_count": 3,
     "metadata": {},
     "output_type": "execute_result"
    }
   ]
  },
  {
   "cell_type": "code",
   "source": [
    "tools = [add, multiply, divide, search]\n",
    "\n",
    "llm_with_tools = llm.bind_tools(tools)"
   ],
   "metadata": {
    "id": "7rlu8MF-ho6e",
    "ExecuteTime": {
     "end_time": "2024-12-07T23:09:54.445700Z",
     "start_time": "2024-12-07T23:09:54.431058Z"
    }
   },
   "execution_count": 4,
   "outputs": []
  },
  {
   "cell_type": "code",
   "source": [
    "from langchain_core.messages import HumanMessage, SystemMessage\n",
    "\n",
    "# System message\n",
    "sys_msg = SystemMessage(content=\"You are a helpful assistant tasked with using search and performing arithmetic on a set of inputs.\")\n",
    "\n"
   ],
   "metadata": {
    "id": "FlgpM-CFh3SH",
    "ExecuteTime": {
     "end_time": "2024-12-07T23:09:54.734649Z",
     "start_time": "2024-12-07T23:09:54.723064Z"
    }
   },
   "execution_count": 5,
   "outputs": []
  },
  {
   "cell_type": "markdown",
   "source": [
    "## Nodes"
   ],
   "metadata": {
    "id": "H7z8wrV9550D"
   }
  },
  {
   "cell_type": "code",
   "source": [
    "from langgraph.graph import MessagesState\n",
    "# Node\n",
    "def reasoner(state: MessagesState):\n",
    "   return {\"messages\": [llm_with_tools.invoke([sys_msg] + state[\"messages\"])]}\n"
   ],
   "metadata": {
    "id": "uJ6mJ1Hcio3U",
    "ExecuteTime": {
     "end_time": "2024-12-07T23:09:55.757218Z",
     "start_time": "2024-12-07T23:09:55.727737Z"
    }
   },
   "execution_count": 6,
   "outputs": []
  },
  {
   "cell_type": "markdown",
   "source": [
    "### Building the graph"
   ],
   "metadata": {
    "id": "E5T9K_c1nNCP"
   }
  },
  {
   "cell_type": "code",
   "source": [
    "from langgraph.graph import START, StateGraph\n",
    "from langgraph.prebuilt import tools_condition # this is the checker for if you got a tool back\n",
    "from langgraph.prebuilt import ToolNode\n",
    "from IPython.display import Image, display\n",
    "\n",
    "# Graph\n",
    "builder = StateGraph(MessagesState)\n",
    "\n",
    "# Add nodes\n",
    "builder.add_node(\"reasoner\", reasoner)\n",
    "builder.add_node(\"tools\", ToolNode(tools)) # for the tools\n",
    "\n",
    "# Add edges\n",
    "builder.add_edge(START, \"reasoner\")\n",
    "builder.add_conditional_edges(\n",
    "    \"reasoner\",\n",
    "    # If the latest message (result) from node reasoner is a tool call -> tools_condition routes to tools\n",
    "    # If the latest message (result) from node reasoner is a not a tool call -> tools_condition routes to END\n",
    "    tools_condition,\n",
    ")\n",
    "builder.add_edge(\"tools\", \"reasoner\")\n",
    "react_graph = builder.compile()\n",
    "\n",
    "# Display the graph\n",
    "display(Image(react_graph.get_graph(xray=True).draw_mermaid_png()))"
   ],
   "metadata": {
    "colab": {
     "base_uri": "https://localhost:8080/",
     "height": 266
    },
    "id": "o0FIm4j0io5S",
    "outputId": "65cc7df0-cef4-4b5e-deb7-41b01eb17be3",
    "ExecuteTime": {
     "end_time": "2024-12-07T23:09:56.697353Z",
     "start_time": "2024-12-07T23:09:56.645508Z"
    }
   },
   "execution_count": 7,
   "outputs": [
    {
     "data": {
      "image/png": "[encoded data removed]",
      "text/plain": "<IPython.core.display.Image object>"
     },
     "metadata": {},
     "output_type": "display_data"
    }
   ]
  },
  {
   "cell_type": "code",
   "source": [
    "messages = [HumanMessage(content=\"What is 2 times Brad Pitt's age?\")]\n",
    "messages = react_graph.invoke({\"messages\": messages})"
   ],
   "metadata": {
    "id": "yYz5Wc9dio76",
    "ExecuteTime": {
     "end_time": "2024-12-07T23:10:00.560228Z",
     "start_time": "2024-12-07T23:09:57.369838Z"
    }
   },
   "execution_count": 8,
   "outputs": []
  },
  {
   "cell_type": "code",
   "source": [
    "for m in messages['messages']:\n",
    "    m.pretty_print()"
   ],
   "metadata": {
    "colab": {
     "base_uri": "https://localhost:8080/"
    },
    "id": "GvzaROdwi64G",
    "outputId": "3b549b46-08ed-446e-e28f-8c92c9f0128d",
    "ExecuteTime": {
     "end_time": "2024-12-07T23:10:00.563437Z",
     "start_time": "2024-12-07T23:10:00.560873Z"
    }
   },
   "execution_count": 9,
   "outputs": [
    {
     "name": "stdout",
     "output_type": "stream",
     "text": [
      "================================\u001B[1m Human Message \u001B[0m=================================\n",
      "\n",
      "What is 2 times Brad Pitt's age?\n",
      "==================================\u001B[1m Ai Message \u001B[0m==================================\n",
      "Tool Calls:\n",
      "  duckduckgo_search (call_AyyDj7P2iXMuTqjkXtmRlCgX)\n",
      " Call ID: call_AyyDj7P2iXMuTqjkXtmRlCgX\n",
      "  Args:\n",
      "    query: Brad Pitt age 2023\n",
      "=================================\u001B[1m Tool Message \u001B[0m=================================\n",
      "Name: duckduckgo_search\n",
      "\n",
      "Error: RatelimitException('https://links.duckduckgo.com/d.js?q=Brad+Pitt+age+2023&kl=wt-wt&l=wt-wt&p=&s=0&df=y&vqd=4-144682033816082074760523804194880172033&bing_market=wt-WT&ex=-1 202 Ratelimit')\n",
      " Please fix your mistakes.\n",
      "==================================\u001B[1m Ai Message \u001B[0m==================================\n",
      "Tool Calls:\n",
      "  duckduckgo_search (call_17NMAu3fPdqrMOKDfHDNyAvN)\n",
      " Call ID: call_17NMAu3fPdqrMOKDfHDNyAvN\n",
      "  Args:\n",
      "    query: Brad Pitt age\n",
      "=================================\u001B[1m Tool Message \u001B[0m=================================\n",
      "Name: duckduckgo_search\n",
      "\n",
      "Error: RatelimitException('https://links.duckduckgo.com/d.js?q=Brad+Pitt+age&kl=wt-wt&l=wt-wt&p=&s=0&df=y&vqd=4-15814512035001946765157109539300840194&bing_market=wt-WT&ex=-1 202 Ratelimit')\n",
      " Please fix your mistakes.\n",
      "==================================\u001B[1m Ai Message \u001B[0m==================================\n",
      "\n",
      "I am currently unable to retrieve Brad Pitt's age due to a rate limit on the search service. However, as of 2023, Brad Pitt was born on December 18, 1963, which would make him 59 years old. \n",
      "\n",
      "Let's calculate 2 times his age:\n",
      "\n",
      "\\[\n",
      "2 \\times 59 = 118\n",
      "\\]\n",
      "\n",
      "So, 2 times Brad Pitt's age is 118.\n"
     ]
    }
   ]
  },
  {
   "cell_type": "markdown",
   "source": [
    "## More manual way and adding a custom tool"
   ],
   "metadata": {
    "id": "QtczHZq39HKG"
   }
  },
  {
   "cell_type": "code",
   "source": [
    "!pip -q install yfinance"
   ],
   "metadata": {
    "colab": {
     "base_uri": "https://localhost:8080/"
    },
    "id": "KteveCcwHXsl",
    "outputId": "075ae62d-808e-466a-9d1a-ec967ca744d6",
    "ExecuteTime": {
     "end_time": "2024-12-07T23:10:03.157688Z",
     "start_time": "2024-12-07T23:10:02.383528Z"
    }
   },
   "execution_count": 10,
   "outputs": []
  },
  {
   "cell_type": "code",
   "source": [
    "import yfinance as yf\n",
    "\n",
    "def get_stock_price(ticker: str) -> float:\n",
    "    \"\"\"Gets a stock price (previous close) from Yahoo Finance.\n",
    "\n",
    "    Args:\n",
    "        ticker: ticker str\n",
    "    \"\"\"\n",
    "    # \"\"\"This is a tool for getting the price of a stock when passed a ticker symbol\"\"\"\n",
    "    stock = yf.Ticker(ticker)\n",
    "    return stock.info['previousClose']"
   ],
   "metadata": {
    "id": "0pMlZscoM6e_",
    "ExecuteTime": {
     "end_time": "2024-12-07T23:12:58.861913Z",
     "start_time": "2024-12-07T23:12:58.837606Z"
    }
   },
   "execution_count": 18,
   "outputs": []
  },
  {
   "cell_type": "code",
   "source": [
    "get_stock_price(\"TSLA\")"
   ],
   "metadata": {
    "colab": {
     "base_uri": "https://localhost:8080/"
    },
    "id": "PvJ113s9Ljgq",
    "outputId": "8aaa51ed-bbf0-413d-c642-e56170ea69e5",
    "ExecuteTime": {
     "end_time": "2024-12-07T23:11:53.137213Z",
     "start_time": "2024-12-07T23:11:53.015110Z"
    }
   },
   "execution_count": 15,
   "outputs": [
    {
     "data": {
      "text/plain": "369.49"
     },
     "execution_count": 15,
     "metadata": {},
     "output_type": "execute_result"
    }
   ]
  },
  {
   "cell_type": "code",
   "source": [
    "# from langchain_community.tools.yahoo_finance_news import YahooFinanceNewsTool\n",
    "\n",
    "# y_finance = YahooFinanceNewsTool()\n",
    "\n",
    "# y_finance.invoke(\"AAPL\")"
   ],
   "metadata": {
    "id": "Nlv8Um_zBLac"
   },
   "execution_count": null,
   "outputs": []
  },
  {
   "cell_type": "code",
   "source": [
    "tools = [add, multiply, divide, search, get_stock_price]\n",
    "\n",
    "llm = ChatOpenAI(model=\"gpt-4o\")\n",
    "llm_with_tools = llm.bind_tools(tools)"
   ],
   "metadata": {
    "id": "LBGXfOroEEVD",
    "ExecuteTime": {
     "end_time": "2024-12-07T23:13:19.037768Z",
     "start_time": "2024-12-07T23:13:18.952749Z"
    }
   },
   "execution_count": 20,
   "outputs": []
  },
  {
   "cell_type": "code",
   "source": [
    "tools[4]"
   ],
   "metadata": {
    "colab": {
     "base_uri": "https://localhost:8080/",
     "height": 155
    },
    "id": "Ak2n1HL1oS2u",
    "outputId": "95fffb2d-f3d4-48b1-da4a-666a8d199475",
    "ExecuteTime": {
     "end_time": "2024-12-07T23:14:42.015214Z",
     "start_time": "2024-12-07T23:14:42.009616Z"
    }
   },
   "execution_count": 27,
   "outputs": [
    {
     "data": {
      "text/plain": "<function __main__.get_stock_price(ticker: str) -> float>"
     },
     "execution_count": 27,
     "metadata": {},
     "output_type": "execute_result"
    }
   ]
  },
  {
   "cell_type": "code",
   "source": [
    "from typing import Annotated, TypedDict\n",
    "import operator\n",
    "from langchain_core.messages import AnyMessage\n",
    "\n",
    "\n",
    "class GraphState(TypedDict):\n",
    "    \"\"\"State of the graph.\"\"\"\n",
    "    query: str\n",
    "    finance: str\n",
    "    final_answer: str\n",
    "    messages: Annotated[list[AnyMessage], operator.add]\n"
   ],
   "metadata": {
    "id": "RH1ap_Yuztf5",
    "ExecuteTime": {
     "end_time": "2024-12-07T23:14:52.588379Z",
     "start_time": "2024-12-07T23:14:52.584916Z"
    }
   },
   "execution_count": 28,
   "outputs": []
  },
  {
   "cell_type": "code",
   "outputs": [],
   "source": [
    "# Node\n",
    "def reasoner(state):\n",
    "    query = state[\"query\"]\n",
    "    messages = state[\"messages\"]\n",
    "    # System message\n",
    "    sys_msg = SystemMessage(content=\"You are a helpful assistant tasked with using search, the yahoo finance tool and performing arithmetic on a set of inputs.\")\n",
    "    message = HumanMessage(content=query)\n",
    "    messages.append(message)\n",
    "    result = [llm_with_tools.invoke([sys_msg] + messages)]\n",
    "    return {\"messages\":result}\n"
   ],
   "metadata": {
    "id": "6-unsLIxCKOq",
    "ExecuteTime": {
     "end_time": "2024-12-07T23:13:16.288164Z",
     "start_time": "2024-12-07T23:13:16.238504Z"
    }
   },
   "execution_count": 19
  },
  {
   "cell_type": "code",
   "source": [
    "from langgraph.graph import START, StateGraph\n",
    "from langgraph.prebuilt import tools_condition # this is the checker for the\n",
    "from langgraph.prebuilt import ToolNode\n",
    "\n",
    "\n",
    "# Graph\n",
    "workflow = StateGraph(GraphState)\n",
    "\n",
    "# Add Nodes\n",
    "workflow.add_node(\"reasoner\", reasoner)\n",
    "workflow.add_node(\"tools\", ToolNode(tools)) # for the tools\n",
    "\n",
    "# Add Edges\n",
    "workflow.add_edge(START, \"reasoner\")\n",
    "\n",
    "workflow.add_conditional_edges(\n",
    "    \"reasoner\",\n",
    "    # If the latest message (result) from node reasoner is a tool call -> tools_condition routes to tools\n",
    "    # If the latest message (result) from node reasoner is a not a tool call -> tools_condition routes to END\n",
    "    tools_condition,\n",
    ")\n",
    "workflow.add_edge(\"tools\", \"reasoner\")\n",
    "react_graph = workflow.compile()\n",
    "\n",
    "# Show\n",
    "display(Image(react_graph.get_graph(xray=True).draw_mermaid_png()))"
   ],
   "metadata": {
    "colab": {
     "base_uri": "https://localhost:8080/",
     "height": 266
    },
    "id": "1REv0ndD_Awn",
    "outputId": "9a0edd3f-96c7-4b20-8120-8ff108f10827"
   },
   "execution_count": null,
   "outputs": [
    {
     "output_type": "display_data",
     "data": {
      "image/jpeg": "[encoded data removed]",
      "text/plain": [
       "<IPython.core.display.Image object>"
      ]
     },
     "metadata": {}
    }
   ]
  },
  {
   "cell_type": "markdown",
   "source": [],
   "metadata": {
    "id": "2jIyk5ZwDGxY"
   }
  },
  {
   "cell_type": "code",
   "source": [
    "response = react_graph.invoke({\"query\": \"What is the stock price of the company that Jensen Huang is CEO of?\", \"messages\": []})"
   ],
   "metadata": {
    "id": "c21ouY0PIQh-"
   },
   "execution_count": null,
   "outputs": []
  },
  {
   "cell_type": "code",
   "source": [
    "for m in response['messages']:\n",
    "    m.pretty_print()"
   ],
   "metadata": {
    "colab": {
     "base_uri": "https://localhost:8080/"
    },
    "id": "szgNFSrzJQ0o",
    "outputId": "503e24f7-706d-49dd-99f9-b1d693c4c369"
   },
   "execution_count": null,
   "outputs": [
    {
     "output_type": "stream",
     "name": "stdout",
     "text": [
      "================================\u001B[1m Human Message \u001B[0m=================================\n",
      "\n",
      "What is the stock price of the company that Jensen Huang is CEO of?\n",
      "==================================\u001B[1m Ai Message \u001B[0m==================================\n",
      "Tool Calls:\n",
      "  duckduckgo_search (call_Lx0D1F4vLFCKEPWAVKWn3Dbr)\n",
      " Call ID: call_Lx0D1F4vLFCKEPWAVKWn3Dbr\n",
      "  Args:\n",
      "    query: Jensen Huang CEO company\n",
      "=================================\u001B[1m Tool Message \u001B[0m=================================\n",
      "Name: duckduckgo_search\n",
      "\n",
      "Jensen Huang: from Denny's dishwasher to CEO of Nvidia | 60 Minutes 13:23. Only four companies in the world are worth more than $2 trillion: Microsoft, Apple, Alphabet — parent company of Google ... Nvidia CEO Jensen Huang launched his company in a booth at Denny's with his friends. Meet his cofounder who donated shares now worth $70 billion and moved off the grid ... Jensen Huang, Chris ... Nvidia CEO Jensen Huang delivers his keynote speech ahead of Computex 2024 in Taipei on June 2, 2024. When Nvidia surpassed Apple this week to become America's second most valuable company, its ... Jensen Huang cofounded graphics-chip maker Nvidia in 1993, and has served as its CEO and president ever since. Huang owns approximately 3% of Nvidia, which went public in 1999. Born in Taiwan ... Nvidia pressed ahead in March, when CEO Jensen Huang unveiled Blackwell, the company's latest GPU. Designed in America, but made in Taiwan, Huang said Blackwell is the fastest chip ever and suited ...\n",
      "================================\u001B[1m Human Message \u001B[0m=================================\n",
      "\n",
      "What is the stock price of the company that Jensen Huang is CEO of?\n",
      "==================================\u001B[1m Ai Message \u001B[0m==================================\n",
      "Tool Calls:\n",
      "  get_stock_price (call_oNoDpxpusg19uFl5mBJyxHxB)\n",
      " Call ID: call_oNoDpxpusg19uFl5mBJyxHxB\n",
      "  Args:\n",
      "    ticker: NVDA\n",
      "=================================\u001B[1m Tool Message \u001B[0m=================================\n",
      "Name: get_stock_price\n",
      "\n",
      "119.1\n",
      "================================\u001B[1m Human Message \u001B[0m=================================\n",
      "\n",
      "What is the stock price of the company that Jensen Huang is CEO of?\n",
      "==================================\u001B[1m Ai Message \u001B[0m==================================\n",
      "\n",
      "The stock price of Nvidia (the company where Jensen Huang is the CEO) is $119.10.\n"
     ]
    }
   ]
  },
  {
   "cell_type": "code",
   "source": [],
   "metadata": {
    "id": "-RC8SvteJr62"
   },
   "execution_count": null,
   "outputs": []
  },
  {
   "cell_type": "code",
   "source": [
    "response = react_graph.invoke({\"query\": \"What will be the price of nvidia stock if it doubles?\", \"messages\": []})"
   ],
   "metadata": {
    "id": "MiJ7ooR0qfwm"
   },
   "execution_count": null,
   "outputs": []
  },
  {
   "cell_type": "code",
   "source": [
    "for m in response['messages']:\n",
    "    m.pretty_print()"
   ],
   "metadata": {
    "colab": {
     "base_uri": "https://localhost:8080/"
    },
    "outputId": "a8aded62-fe1a-4747-f1c2-905b1d2dc060",
    "id": "-pVdTUUMqfwn"
   },
   "execution_count": null,
   "outputs": [
    {
     "output_type": "stream",
     "name": "stdout",
     "text": [
      "================================\u001B[1m Human Message \u001B[0m=================================\n",
      "\n",
      "What will be the price of nvidia stock if it doubles?\n",
      "==================================\u001B[1m Ai Message \u001B[0m==================================\n",
      "Tool Calls:\n",
      "  get_stock_price (call_8iPPMM261Ddgr4LdAlhQ4wW9)\n",
      " Call ID: call_8iPPMM261Ddgr4LdAlhQ4wW9\n",
      "  Args:\n",
      "    ticker: NVDA\n",
      "=================================\u001B[1m Tool Message \u001B[0m=================================\n",
      "Name: get_stock_price\n",
      "\n",
      "119.1\n",
      "================================\u001B[1m Human Message \u001B[0m=================================\n",
      "\n",
      "What will be the price of nvidia stock if it doubles?\n",
      "==================================\u001B[1m Ai Message \u001B[0m==================================\n",
      "Tool Calls:\n",
      "  multiply (call_uiTbfZ1pyR4TGayOPHXT1vZB)\n",
      " Call ID: call_uiTbfZ1pyR4TGayOPHXT1vZB\n",
      "  Args:\n",
      "    a: 11910\n",
      "    b: 2\n",
      "=================================\u001B[1m Tool Message \u001B[0m=================================\n",
      "Name: multiply\n",
      "\n",
      "23820\n",
      "================================\u001B[1m Human Message \u001B[0m=================================\n",
      "\n",
      "What will be the price of nvidia stock if it doubles?\n",
      "==================================\u001B[1m Ai Message \u001B[0m==================================\n",
      "\n",
      "If Nvidia's stock price doubles, it will be $238.20.\n"
     ]
    }
   ]
  },
  {
   "cell_type": "code",
   "source": [
    "display(Image(react_graph.get_graph(xray=True).draw_mermaid_png()))"
   ],
   "metadata": {
    "id": "hhs6PnuLMSvW",
    "colab": {
     "base_uri": "https://localhost:8080/",
     "height": 266
    },
    "outputId": "a78f4d9d-0e1b-4ef7-c299-0f58b2c70490"
   },
   "execution_count": null,
   "outputs": [
    {
     "output_type": "display_data",
     "data": {
      "image/jpeg": "[encoded data removed]",
      "text/plain": [
       "<IPython.core.display.Image object>"
      ]
     },
     "metadata": {}
    }
   ]
  },
  {
   "cell_type": "code",
   "source": [],
   "metadata": {
    "id": "LA3LBsu3T2Ag"
   },
   "execution_count": null,
   "outputs": []
  }
 ]
}
