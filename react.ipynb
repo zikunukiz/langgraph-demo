{
 "nbformat": 4,
 "nbformat_minor": 0,
 "metadata": {
  "colab": {
   "provenance": []
  },
  "kernelspec": {
   "name": "python3",
   "language": "python",
   "display_name": "Python 3 (ipykernel)"
  },
  "language_info": {
   "name": "python"
  }
 },
 "cells": [
  {
   "cell_type": "code",
   "outputs": [],
   "source": [
    "%%capture --no-stderr\n",
    "%!pip -q install langchain-core langchain-community langgraph langchain-openai duckduckgo-search yfinance"
   ],
   "metadata": {
    "collapsed": false
   }
  },
  {
   "cell_type": "markdown",
   "source": [
    "# Traditional ReAct Prompt"
   ],
   "metadata": {
    "id": "o0vQNgwBKU0n"
   }
  },
  {
   "cell_type": "code",
   "outputs": [],
   "source": [
    "react_prompt = \"\"\"Assistant is a large language model trained by Microsoft.\n",
    "\n",
    "Assistant is designed to be able to assist with a wide range of tasks, from answering simple questions to providing in-depth explanations and discussions on a wide range of topics. As a language model, Assistant is able to generate human-like text based on the input it receives, allowing it to engage in natural-sounding conversations and provide responses that are coherent and relevant to the topic at hand.\n",
    "\n",
    "Assistant is constantly learning and improving, and its capabilities are constantly evolving. It is able to process and understand large amounts of text, and can use this knowledge to provide accurate and informative responses to a wide range of questions. Additionally, Assistant is able to generate its own text based on the input it receives, allowing it to engage in discussions and provide explanations and descriptions on a wide range of topics.\n",
    "\n",
    "Overall, Assistant is a powerful tool that can help with a wide range of tasks and provide valuable insights and information on a wide range of topics. Whether you need help with a specific question or just want to have a conversation about a particular topic, Assistant is here to assist.\n",
    "\n",
    "TOOLS:\n",
    "------\n",
    "\n",
    "Assistant has access to the following tools:\n",
    "\n",
    "wikipedia_search - searches the wikipedia database for the answer\\n\n",
    "web_search - searches the web for the answer\\n\n",
    "calculator - calculates the answer to the question\\n\n",
    "weather_api - gets the weather for the location\\n\n",
    "\n",
    "\n",
    "To use a tool, please use the following format:\n",
    "\n",
    "```\n",
    "Thought: Do I need to use a tool? Yes\n",
    "Action: the action to take, should be one of [wikipedia_search, web_search, calculator, weather_api]\n",
    "Action Input: the input to the action\n",
    "Observation: the result of the action\n",
    "```\n",
    "\n",
    "When you have a response to say to the Human, or if you do not need to use a tool, you MUST use the format:\n",
    "\n",
    "```\n",
    "Thought: Do I need to use a tool? No\n",
    "Final Answer: [your response here]\n",
    "```\n",
    "\n",
    "Begin!\n",
    "\n",
    "\n",
    "New input: Whow was King Arthur?\n",
    "\"\"\""
   ],
   "metadata": {
    "collapsed": false,
    "ExecuteTime": {
     "end_time": "2024-12-08T04:11:50.777071Z",
     "start_time": "2024-12-08T04:11:50.756632Z"
    }
   },
   "execution_count": 9
  },
  {
   "cell_type": "markdown",
   "source": [
    "# Simple ReAct Agent Design\n",
    "\n",
    "![react diagram](images/react-diagram.png)"
   ],
   "metadata": {
    "collapsed": false
   }
  },
  {
   "cell_type": "markdown",
   "source": [],
   "metadata": {
    "collapsed": false
   }
  },
  {
   "cell_type": "code",
   "source": [
    "import dotenv\n",
    "dotenv.load_dotenv()"
   ],
   "metadata": {
    "id": "Iv9zB6BrhbRY",
    "ExecuteTime": {
     "end_time": "2024-12-09T14:55:49.067269Z",
     "start_time": "2024-12-09T14:55:49.057302Z"
    }
   },
   "execution_count": 23,
   "outputs": [
    {
     "data": {
      "text/plain": "True"
     },
     "execution_count": 23,
     "metadata": {},
     "output_type": "execute_result"
    }
   ]
  },
  {
   "cell_type": "markdown",
   "source": [
    "### Tools"
   ],
   "metadata": {
    "id": "Xjw2pzHJmgcz"
   }
  },
  {
   "cell_type": "code",
   "source": [
    "# search tools\n",
    "from custom_tools import add, multiply, divide\n",
    "from langchain_community.tools import TavilySearchResults, DuckDuckGoSearchRun\n",
    "from langchain_openai import ChatOpenAI\n",
    "\n",
    "search = TavilySearchResults(max_results=2)\n",
    "# search = DuckDuckGoSearchRun()\n",
    "tools = [add, multiply, divide, search]\n",
    "\n",
    "llm = ChatOpenAI(model=\"gpt-4o\")\n",
    "llm_with_tools = llm.bind_tools(tools)\n"
   ],
   "metadata": {
    "colab": {
     "base_uri": "https://localhost:8080/",
     "height": 157
    },
    "id": "1VfRa-pdmm1u",
    "outputId": "c3ded11d-3447-4ad8-a736-44a2cb733895",
    "ExecuteTime": {
     "end_time": "2024-12-09T14:55:56.231609Z",
     "start_time": "2024-12-09T14:55:56.163443Z"
    }
   },
   "execution_count": 24,
   "outputs": []
  },
  {
   "cell_type": "code",
   "source": [
    "search.invoke(\"How old is Brad Pitt?\")"
   ],
   "metadata": {
    "id": "7rlu8MF-ho6e",
    "ExecuteTime": {
     "end_time": "2024-12-09T14:56:56.175055Z",
     "start_time": "2024-12-09T14:56:54.441961Z"
    }
   },
   "execution_count": 25,
   "outputs": [
    {
     "data": {
      "text/plain": "[{'url': 'https://nypost.com/2023/12/20/entertainment/brad-pitts-60th-birthday-paris-photos-with-girlfriend-ines-de-ramon/',\n  'content': 'Brad Pitt rang in his six-decade milestone in a big way — twice! Pitt celebrated his 60th birthday on Monday, along with friends and his girlfriend, Ines de Ramon, 33, with \"low key'},\n {'url': 'https://www.celebsagewiki.com/brad-pitt',\n  'content': 'We recommend you to check the complete list of Famous People born on 18 December. He is a member of famous Actor with the age 60 years old group. Brad Pitt Height, Weight & Measurements. At 60 years old, Brad Pitt height is 5′ 11″ .'}]"
     },
     "execution_count": 25,
     "metadata": {},
     "output_type": "execute_result"
    }
   ]
  },
  {
   "cell_type": "markdown",
   "source": [
    "## Nodes"
   ],
   "metadata": {
    "id": "H7z8wrV9550D"
   }
  },
  {
   "cell_type": "code",
   "source": [
    "from langgraph.graph import MessagesState\n",
    "from langchain_core.messages import HumanMessage, SystemMessage\n",
    "\n",
    "sys_msg = SystemMessage(content=\"You are a helpful assistant tasked with using search and performing arithmetic on a set of inputs.\"\n",
    "                                \"Provide your reasoning in an explicit `Thought` section before providing your response.\")\n",
    "\n",
    "# Node\n",
    "def reasoner(state: MessagesState):\n",
    "   return {\"messages\": [llm_with_tools.invoke([sys_msg] + state[\"messages\"])]}\n"
   ],
   "metadata": {
    "id": "uJ6mJ1Hcio3U",
    "ExecuteTime": {
     "end_time": "2024-12-09T14:57:12.521040Z",
     "start_time": "2024-12-09T14:57:12.518832Z"
    }
   },
   "execution_count": 26,
   "outputs": []
  },
  {
   "cell_type": "markdown",
   "source": [
    "### Building the graph"
   ],
   "metadata": {
    "id": "E5T9K_c1nNCP"
   }
  },
  {
   "cell_type": "code",
   "source": [
    "from langgraph.graph import START, StateGraph\n",
    "from langgraph.prebuilt import ToolNode, tools_condition\n",
    "from IPython.display import Image, display\n",
    "\n",
    "# Graph\n",
    "builder = StateGraph(MessagesState)\n",
    "\n",
    "# Add nodes\n",
    "builder.add_node(\"reasoner\", reasoner)\n",
    "builder.add_node(\"tools\", ToolNode(tools)) # for the tools\n",
    "\n",
    "# Add edges\n",
    "builder.add_edge(START, \"reasoner\")\n",
    "builder.add_conditional_edges(\n",
    "    \"reasoner\",\n",
    "    # If the latest message (result) from node reasoner is a tool call -> tools_condition routes to tools\n",
    "    # If the latest message (result) from node reasoner is a not a tool call -> tools_condition routes to END\n",
    "    tools_condition,\n",
    ")\n",
    "builder.add_edge(\"tools\", \"reasoner\")\n",
    "react_graph = builder.compile()\n",
    "\n",
    "# Display the graph\n",
    "display(Image(react_graph.get_graph(xray=True).draw_mermaid_png()))"
   ],
   "metadata": {
    "colab": {
     "base_uri": "https://localhost:8080/",
     "height": 266
    },
    "id": "o0FIm4j0io5S",
    "outputId": "65cc7df0-cef4-4b5e-deb7-41b01eb17be3",
    "ExecuteTime": {
     "end_time": "2024-12-09T15:01:32.255711Z",
     "start_time": "2024-12-09T15:01:32.174120Z"
    }
   },
   "execution_count": 27,
   "outputs": [
    {
     "data": {
      "image/png": "[encoded data removed]",
      "text/plain": "<IPython.core.display.Image object>"
     },
     "metadata": {},
     "output_type": "display_data"
    }
   ]
  },
  {
   "cell_type": "code",
   "source": [
    "messages = [HumanMessage(content=\"What is 2 times Brad Pitt's age?\")]\n",
    "messages = react_graph.invoke({\"messages\": messages})"
   ],
   "metadata": {
    "id": "yYz5Wc9dio76",
    "ExecuteTime": {
     "end_time": "2024-12-09T15:03:01.457120Z",
     "start_time": "2024-12-09T15:02:56.943831Z"
    }
   },
   "execution_count": 30,
   "outputs": []
  },
  {
   "cell_type": "code",
   "source": [
    "for m in messages['messages']:\n",
    "    m.pretty_print()"
   ],
   "metadata": {
    "colab": {
     "base_uri": "https://localhost:8080/"
    },
    "id": "GvzaROdwi64G",
    "outputId": "3b549b46-08ed-446e-e28f-8c92c9f0128d",
    "ExecuteTime": {
     "end_time": "2024-12-09T15:03:01.461849Z",
     "start_time": "2024-12-09T15:03:01.457915Z"
    }
   },
   "execution_count": 31,
   "outputs": [
    {
     "name": "stdout",
     "output_type": "stream",
     "text": [
      "================================\u001B[1m Human Message \u001B[0m=================================\n",
      "\n",
      "What is 2 times Brad Pitt's age?\n",
      "==================================\u001B[1m Ai Message \u001B[0m==================================\n",
      "Tool Calls:\n",
      "  tavily_search_results_json (call_oJZYX792TSkzf2VXp1OE25xy)\n",
      " Call ID: call_oJZYX792TSkzf2VXp1OE25xy\n",
      "  Args:\n",
      "    query: Brad Pitt age 2023\n",
      "=================================\u001B[1m Tool Message \u001B[0m=================================\n",
      "Name: tavily_search_results_json\n",
      "\n",
      "[{\"url\": \"https://people.com/brad-pitt-60th-birthday-party-details-pda-balloons-gifts-los-angeles-exclusive-8419170\", \"content\": \"Framed photo of Ines de Ramon and Brad Pitt at his birthday celebration in Los Angeles on Dec. 19, 2023. TheImageDirect.com Brad Pitt Goes Golden Cowboy for His 60th Birthday in Bold Western-Style\"}, {\"url\": \"https://en.wikipedia.org/wiki/Brad_Pitt\", \"content\": \"Pitt's next role, in 2001's $143 million-grossing Cold War thriller Spy Game,[32] was as Tom Bishop, an operative of the CIA's Special Activities Division, mentored by Robert Redford's character.[84] Mark Holcomb of Salon.com enjoyed the film, although he noted that neither Pitt nor Redford provided \\\"much of an emotional connection for the audience\\\".[85]\\nOn November 22, 2001, Pitt made a guest appearance in the eighth season of the television series Friends, playing a man with a grudge against Rachel Green, played by Jennifer Aniston, to whom Pitt was married at the time.[86] For this performance he was nominated for an Emmy Award in the category of Outstanding Guest Actor in a Comedy Series.[87] The first six homes were completed in October 2008,[183] and in September 2009 Pitt received an award in recognition of the project from the U.S. Green Building Council, a non-profit trade organization that promotes sustainability in how buildings are designed, built and operated.[184][185] Pitt met with U.S. President Barack Obama and Speaker of the House of Representatives Nancy Pelosi in March 2009 to promote his concept of green housing as a national model and to discuss federal funding possibilities.[186]\\nIn September 2006, Pitt and Jolie established a charitable organization, the Jolie-Pitt Foundation, to aid humanitarian causes around the world.[187] Pitt's next film role was as American outlaw Jesse James in the 2007 Western drama The Assassination of Jesse James by the Coward Robert Ford, adapted from Ron Hansen's 1983 novel of the same name.[108] Directed by Andrew Dominik and produced by Pitt's company Plan B Entertainment, the film premiered at the 2007 Venice Film Festival,[109] with Pitt playing a \\\"scary and charismatic\\\" role, according to Lewis Beale of Film Journal International,[110] and earning Pitt the Volpi Cup award for Best Actor at the 64th Venice International Film Festival.[111] Several reviewers were critical of Snatch; however, most praised Pitt.[79] Mick LaSalle of the San Francisco Chronicle said Pitt was \\\"ideally cast as an Irishman whose accent is so thick even Brits can't understand him\\\", going on to say that, before Snatch, Pitt had been \\\"shackled by roles that called for brooding introspection, but recently he has found his calling in black comic outrageousness and flashy extroversion;\\\"[80] while Amy Taubin of The Village Voice claimed that \\\"Pitt gets maximum comic mileage out of a one-joke role\\\".[81]\\nThe following year Pitt starred opposite Julia Roberts in the romantic comedy The Mexican,[82] a film that garnered a range of reviews[83] but enjoyed box office success.[32] On September 19, 2016, Jolie filed for divorce from Pitt, citing irreconcilable differences.[211] On April 12, 2019, the court declared Jolie and Pitt legally single.[212]\\nIn 2022, he began dating Ines de Ramon, a jewelry designer who is 29 years his junior.[213]\\nChildren\\nIn July 2005, Pitt accompanied Jolie to Addis Ababa, Ethiopia, where she adopted her second child, a girl.[214][215] On December 3, 2005, Pitt was in the process of becoming the adoptive father of Jolie's daughter, and Jolie's first adopted child, a boy.[216]\"}]\n",
      "==================================\u001B[1m Ai Message \u001B[0m==================================\n",
      "\n",
      "Brad Pitt was born on December 18, 1963. As of 2023, he would be 60 years old. Now, let's calculate 2 times his age. \n",
      "\n",
      "2 times 60 is 120. \n",
      "\n",
      "Therefore, 2 times Brad Pitt's age is 120.\n"
     ]
    }
   ]
  },
  {
   "cell_type": "markdown",
   "source": [
    "## More manual way and adding a custom tool"
   ],
   "metadata": {
    "id": "QtczHZq39HKG"
   }
  },
  {
   "cell_type": "code",
   "source": [
    "from custom_tools import get_stock_price\n",
    "get_stock_price(\"TSLA\")"
   ],
   "metadata": {
    "colab": {
     "base_uri": "https://localhost:8080/"
    },
    "id": "PvJ113s9Ljgq",
    "outputId": "8aaa51ed-bbf0-413d-c642-e56170ea69e5",
    "ExecuteTime": {
     "end_time": "2024-12-09T15:03:44.271521Z",
     "start_time": "2024-12-09T15:03:43.889192Z"
    }
   },
   "execution_count": 32,
   "outputs": [
    {
     "data": {
      "text/plain": "389.22"
     },
     "execution_count": 32,
     "metadata": {},
     "output_type": "execute_result"
    }
   ]
  },
  {
   "cell_type": "code",
   "source": [
    "tools = [add, multiply, divide, search, get_stock_price]\n",
    "\n",
    "llm = ChatOpenAI(model=\"gpt-4o\")\n",
    "llm_with_tools = llm.bind_tools(tools)"
   ],
   "metadata": {
    "id": "LBGXfOroEEVD",
    "ExecuteTime": {
     "end_time": "2024-12-09T15:05:28.877906Z",
     "start_time": "2024-12-09T15:05:28.813732Z"
    }
   },
   "execution_count": 34,
   "outputs": []
  },
  {
   "cell_type": "code",
   "source": [
    "from typing import Annotated, TypedDict, List\n",
    "import operator\n",
    "from langchain_core.messages import AnyMessage\n",
    "\n",
    "\n",
    "class GraphState(TypedDict):\n",
    "    \"\"\"State of the graph.\"\"\"\n",
    "    query: str\n",
    "    prices: list[str]\n",
    "    final_answer: str\n",
    "    messages: Annotated[list[AnyMessage], operator.add]\n"
   ],
   "metadata": {
    "id": "RH1ap_Yuztf5",
    "ExecuteTime": {
     "end_time": "2024-12-09T15:05:29.240800Z",
     "start_time": "2024-12-09T15:05:29.237493Z"
    }
   },
   "execution_count": 35,
   "outputs": []
  },
  {
   "cell_type": "code",
   "outputs": [],
   "source": [
    "# Node\n",
    "def reasoner(state):\n",
    "    messages = state[\"messages\"]\n",
    "    # System message\n",
    "    sys_msg = SystemMessage(content=\"You are a helpful assistant tasked with using search, the yahoo finance tool and performing arithmetic on a set of inputs.\")\n",
    "    original_query = HumanMessage(content=state[\"query\"])\n",
    "    messages.append(original_query)\n",
    "    result = [llm_with_tools.invoke([sys_msg] + messages)]\n",
    "    return {\"messages\": result}\n"
   ],
   "metadata": {
    "id": "6-unsLIxCKOq",
    "ExecuteTime": {
     "end_time": "2024-12-09T15:05:30.812532Z",
     "start_time": "2024-12-09T15:05:30.809606Z"
    }
   },
   "execution_count": 36
  },
  {
   "cell_type": "code",
   "source": [
    "from langgraph.graph import START, StateGraph\n",
    "from langgraph.prebuilt import tools_condition # this is the checker for the\n",
    "from langgraph.prebuilt import ToolNode\n",
    "\n",
    "\n",
    "# Graph\n",
    "workflow = StateGraph(GraphState)\n",
    "\n",
    "# Add Nodes\n",
    "workflow.add_node(\"reasoner\", reasoner)\n",
    "workflow.add_node(\"tools\", ToolNode(tools)) # for the tools\n",
    "\n",
    "# Add Edges\n",
    "workflow.add_edge(START, \"reasoner\")\n",
    "\n",
    "workflow.add_conditional_edges(\n",
    "    \"reasoner\",\n",
    "    # If the latest message (result) from node reasoner is a tool call -> tools_condition routes to tools\n",
    "    # If the latest message (result) from node reasoner is a not a tool call -> tools_condition routes to END\n",
    "    tools_condition,\n",
    ")\n",
    "workflow.add_edge(\"tools\", \"reasoner\")\n",
    "react_graph = workflow.compile()\n",
    "\n",
    "# Show\n",
    "display(Image(react_graph.get_graph(xray=True).draw_mermaid_png()))"
   ],
   "metadata": {
    "colab": {
     "base_uri": "https://localhost:8080/",
     "height": 266
    },
    "id": "1REv0ndD_Awn",
    "outputId": "9a0edd3f-96c7-4b20-8120-8ff108f10827",
    "ExecuteTime": {
     "end_time": "2024-12-09T15:05:31.222502Z",
     "start_time": "2024-12-09T15:05:31.176021Z"
    }
   },
   "execution_count": 37,
   "outputs": [
    {
     "data": {
      "image/png": "[encoded data removed]",
      "text/plain": "<IPython.core.display.Image object>"
     },
     "metadata": {},
     "output_type": "display_data"
    }
   ]
  },
  {
   "cell_type": "markdown",
   "source": [],
   "metadata": {
    "id": "2jIyk5ZwDGxY"
   }
  },
  {
   "cell_type": "code",
   "source": [
    "response = react_graph.invoke({\"query\": \"What is 2 times the stock price of the company that Jensen Huang is CEO of?\", \"messages\": []})"
   ],
   "metadata": {
    "id": "c21ouY0PIQh-",
    "ExecuteTime": {
     "end_time": "2024-12-09T15:05:47.380829Z",
     "start_time": "2024-12-09T15:05:42.876132Z"
    }
   },
   "execution_count": 38,
   "outputs": []
  },
  {
   "cell_type": "code",
   "source": [
    "for m in response['messages']:\n",
    "    m.pretty_print()"
   ],
   "metadata": {
    "colab": {
     "base_uri": "https://localhost:8080/"
    },
    "id": "szgNFSrzJQ0o",
    "outputId": "503e24f7-706d-49dd-99f9-b1d693c4c369",
    "ExecuteTime": {
     "end_time": "2024-12-09T15:05:47.387776Z",
     "start_time": "2024-12-09T15:05:47.382503Z"
    }
   },
   "execution_count": 39,
   "outputs": [
    {
     "name": "stdout",
     "output_type": "stream",
     "text": [
      "================================\u001B[1m Human Message \u001B[0m=================================\n",
      "\n",
      "What is 2 times the stock price of the company that Jensen Huang is CEO of?\n",
      "==================================\u001B[1m Ai Message \u001B[0m==================================\n",
      "Tool Calls:\n",
      "  tavily_search_results_json (call_XCdgWcYYYCaLwDP5YUv7RVzx)\n",
      " Call ID: call_XCdgWcYYYCaLwDP5YUv7RVzx\n",
      "  Args:\n",
      "    query: Jensen Huang CEO company\n",
      "  get_stock_price (call_FAhMsR2nrpticbyKp2WZXohU)\n",
      " Call ID: call_FAhMsR2nrpticbyKp2WZXohU\n",
      "  Args:\n",
      "    ticker: NVDA\n",
      "=================================\u001B[1m Tool Message \u001B[0m=================================\n",
      "Name: tavily_search_results_json\n",
      "\n",
      "[{\"url\": \"https://www.forbes.com/profile/jensen-huang/\", \"content\": \"Jensen Huang, the CEO of Nvidia, has the same caliber of vision and energy to drive his company to be like Apple, a multitrillion-dollar company. By Tim Bajarin Contributor Nov 7, 2024\"}, {\"url\": \"https://www.cbsnews.com/news/meet-nvida-ceo-jensen-huang-company-powering-ai-today-60-minutes-transcript/\", \"content\": \"Jensen Huang: from Denny's dishwasher to CEO of Nvidia | 60 Minutes 13:23. Only four companies in the world are worth more than $2 trillion: Microsoft, Apple, Alphabet — parent company of Google\"}]\n",
      "=================================\u001B[1m Tool Message \u001B[0m=================================\n",
      "Name: get_stock_price\n",
      "\n",
      "142.44\n",
      "================================\u001B[1m Human Message \u001B[0m=================================\n",
      "\n",
      "What is 2 times the stock price of the company that Jensen Huang is CEO of?\n",
      "==================================\u001B[1m Ai Message \u001B[0m==================================\n",
      "Tool Calls:\n",
      "  multiply (call_hSGdYlehb4kueTkwPmLz0Q52)\n",
      " Call ID: call_hSGdYlehb4kueTkwPmLz0Q52\n",
      "  Args:\n",
      "    a: 2\n",
      "    b: 142\n",
      "=================================\u001B[1m Tool Message \u001B[0m=================================\n",
      "Name: multiply\n",
      "\n",
      "284\n",
      "================================\u001B[1m Human Message \u001B[0m=================================\n",
      "\n",
      "What is 2 times the stock price of the company that Jensen Huang is CEO of?\n",
      "==================================\u001B[1m Ai Message \u001B[0m==================================\n",
      "\n",
      "2 times the stock price of Nvidia, where Jensen Huang is the CEO, is $284.\n"
     ]
    }
   ]
  }
 ]
}
